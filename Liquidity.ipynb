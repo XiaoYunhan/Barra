{
 "cells": [
  {
   "cell_type": "code",
   "execution_count": 7,
   "metadata": {},
   "outputs": [
    {
     "name": "stdout",
     "output_type": "stream",
     "text": [
      "(15098260, 24)\n"
     ]
    }
   ],
   "source": [
    "import os\n",
    "import pandas as pd\n",
    "\n",
    "# Set directory where CSV files are located\n",
    "dataSourceFolder = \"C:\\\\Users\\\\e0253700\\\\Desktop\\\\NUS\\\\MFE\\\\Semester 2\\\\FE5107\\\\Project\\\\TRD_Dalyr\\\\\"\n",
    "\n",
    "# Get a list of all the CSV files in the folder\n",
    "csv_files = [file for file in os.listdir(dataSourceFolder) if file.endswith('.csv')]\n",
    "\n",
    "# Create an empty list to store the dataframe\n",
    "dfs = []\n",
    "\n",
    "# Loop through the CSV files and read them into dataframes\n",
    "for file in csv_files:\n",
    "    file_path = os.path.join(dataSourceFolder, file)\n",
    "    df = pd.read_csv(file_path)\n",
    "    dfs.append(df)\n",
    "\n",
    "# Concatenate the dataframes into a single dataframe\n",
    "df = pd.concat(dfs, ignore_index=True)\n",
    "\n",
    "print(df.shape)"
   ]
  },
  {
   "cell_type": "code",
   "execution_count": 2,
   "metadata": {},
   "outputs": [],
   "source": [
    "# df.to_csv(dataSourceFolder + \"agg.csv\", index=False)"
   ]
  },
  {
   "cell_type": "code",
   "execution_count": 8,
   "metadata": {},
   "outputs": [
    {
     "name": "stdout",
     "output_type": "stream",
     "text": [
      "(4925100, 5)\n"
     ]
    }
   ],
   "source": [
    "# Data cleaning\n",
    "\n",
    "# Remove duplicate rows\n",
    "df.drop_duplicates(inplace=True)\n",
    "\n",
    "# Keep Markettype = 1, 4, 16, 32\n",
    "valid_market_types = [1, 4, 16, 32]\n",
    "df = df[df['Markettype'].isin(valid_market_types)]\n",
    "\n",
    "# Keep only useful columns\n",
    "columns_to_keep = ['Stkcd', 'Trddt', 'Clsprc', 'Dnshrtrd', 'Dsmvosd']\n",
    "df = df.loc[:, columns_to_keep]\n",
    "\n",
    "print(df.shape)"
   ]
  },
  {
   "cell_type": "code",
   "execution_count": 9,
   "metadata": {},
   "outputs": [
    {
     "name": "stdout",
     "output_type": "stream",
     "text": [
      "(4925100, 8)\n"
     ]
    }
   ],
   "source": [
    "# Create column for Daily Circulating Shares\n",
    "df['Dcircshare'] = df['Dsmvosd'] / df['Clsprc']\n",
    "df['year'] = pd.to_datetime(df['Trddt']).dt.year\n",
    "df['month'] = pd.to_datetime(df['Trddt']).dt.month\n",
    "print(df.shape)"
   ]
  },
  {
   "cell_type": "code",
   "execution_count": 10,
   "metadata": {},
   "outputs": [],
   "source": [
    "# Dataframe for results\n",
    "liquidityColumns = ['Stkcd', 'year', 'month', 'STOM']\n",
    "liquidity = pd.DataFrame(columns=liquidityColumns)"
   ]
  },
  {
   "cell_type": "code",
   "execution_count": 11,
   "metadata": {},
   "outputs": [
    {
     "name": "stdout",
     "output_type": "stream",
     "text": [
      "(249483, 4)\n"
     ]
    }
   ],
   "source": [
    "# Calculate STOM\n",
    "import math\n",
    "# Group the dataframe by the Stkcd \n",
    "groupByStock = df.groupby('Stkcd')\n",
    "\n",
    "# Loop over stocks\n",
    "for stockCode, stock in groupByStock:\n",
    "    groupByYear = stock.groupby('year')\n",
    "    # Loop over years\n",
    "    for yearNum, year in groupByYear:\n",
    "        groupByMonth = year.groupby('month')\n",
    "        # Loop over months\n",
    "        for monthNum, month in groupByMonth:\n",
    "            STOD_sum = (month['Dnshrtrd'] / month['Dcircshare']).sum()\n",
    "            newRecord = {'Stkcd': stockCode, 'year': yearNum, 'month': monthNum, 'STOM': math.log(STOD_sum)}\n",
    "            newRecordDF = pd.DataFrame([newRecord])\n",
    "            liquidity = pd.concat([liquidity, newRecordDF], ignore_index=True)\n",
    "    #         break\n",
    "    #     break\n",
    "    # break\n",
    "\n",
    "print(liquidity.shape)\n"
   ]
  },
  {
   "cell_type": "code",
   "execution_count": 14,
   "metadata": {},
   "outputs": [
    {
     "name": "stdout",
     "output_type": "stream",
     "text": [
      "(249483, 4)\n"
     ]
    }
   ],
   "source": [
    "print(liquidity.shape)\n",
    "# print(liquidity)\n",
    "# liquidity.to_csv(dataSourceFolder + \"STOM.csv\", index=False)"
   ]
  },
  {
   "cell_type": "code",
   "execution_count": 22,
   "metadata": {},
   "outputs": [],
   "source": [
    "import numpy as np\n",
    "\n",
    "liquidity['expSTOM'] = liquidity['STOM'].apply(np.exp)"
   ]
  },
  {
   "cell_type": "code",
   "execution_count": 42,
   "metadata": {},
   "outputs": [],
   "source": [
    "# Create a function to calculate quarter averages\n",
    "def calculate_quarter_average(year, months):\n",
    "    if set(months).issubset(set(year['month'])):\n",
    "        subset = year.loc[year['month'].isin(months), 'expSTOM']\n",
    "        return np.mean(subset)\n",
    "    else:\n",
    "        return np.nan"
   ]
  },
  {
   "cell_type": "code",
   "execution_count": 50,
   "metadata": {},
   "outputs": [],
   "source": [
    "# Calculate STOQ averages for each quarter\n",
    "quarter_averages = {}\n",
    "groupByStock = liquidity.groupby('Stkcd')\n",
    "for stockCode, stock in groupByStock:\n",
    "    groupByYear = stock.groupby('year')\n",
    "    for yearNum, year in groupByYear:\n",
    "        quarter_averages[(stockCode, yearNum, 1)] = math.log(calculate_quarter_average(year, [1, 2, 3]))\n",
    "        quarter_averages[(stockCode, yearNum, 2)] = math.log(calculate_quarter_average(year, [4, 5, 6]))\n",
    "        quarter_averages[(stockCode, yearNum, 3)] = math.log(calculate_quarter_average(year, [7, 8, 9]))\n",
    "        quarter_averages[(stockCode, yearNum, 4)] = math.log(calculate_quarter_average(year, [10, 11, 12]))\n",
    "\n",
    "# Map quarter averages to STOQ column\n",
    "liquidity['STOQ'] = liquidity.apply(lambda row: quarter_averages.get((row['Stkcd'], row['year'], (row['month']-1)//3+1)), axis=1)"
   ]
  },
  {
   "cell_type": "code",
   "execution_count": 51,
   "metadata": {},
   "outputs": [],
   "source": [
    "liquidity.to_csv(dataSourceFolder + \"STOQ.csv\", index=False)"
   ]
  },
  {
   "cell_type": "code",
   "execution_count": 66,
   "metadata": {},
   "outputs": [],
   "source": [
    "# Calculate yearly averages\n",
    "def calculate_yearly_average(year):\n",
    "    return year['expSTOM'].mean()\n",
    "\n",
    "# Calculate yearly averages for each stock\n",
    "yearly_averages = {}\n",
    "groupByStock = liquidity.groupby('Stkcd')\n",
    "for stockCode, stock in groupByStock:\n",
    "    groupByYear = stock.groupby('year')\n",
    "    for yearNum, year in groupByYear:\n",
    "        yearly_averages[(stockCode, yearNum)] = math.log(calculate_yearly_average(year))\n",
    "\n",
    "# Map yearly averages to STOA column\n",
    "liquidity['STOA'] = liquidity.apply(lambda row: yearly_averages.get((row['Stkcd'], row['year'])), axis=1)"
   ]
  },
  {
   "cell_type": "code",
   "execution_count": 67,
   "metadata": {},
   "outputs": [],
   "source": [
    "liquidity.to_csv(dataSourceFolder + \"Liquidity.csv\", index=False)"
   ]
  }
 ],
 "metadata": {
  "kernelspec": {
   "display_name": "Python 3",
   "language": "python",
   "name": "python3"
  },
  "language_info": {
   "codemirror_mode": {
    "name": "ipython",
    "version": 3
   },
   "file_extension": ".py",
   "mimetype": "text/x-python",
   "name": "python",
   "nbconvert_exporter": "python",
   "pygments_lexer": "ipython3",
   "version": "3.10.10"
  },
  "orig_nbformat": 4
 },
 "nbformat": 4,
 "nbformat_minor": 2
}
