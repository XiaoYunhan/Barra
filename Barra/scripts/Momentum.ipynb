{
 "cells": [
  {
   "cell_type": "code",
   "execution_count": 1,
   "metadata": {},
   "outputs": [
    {
     "name": "stdout",
     "output_type": "stream",
     "text": [
      "(11171092, 27)\n"
     ]
    }
   ],
   "source": [
    "import os\n",
    "import pandas as pd\n",
    "\n",
    "# Set directory where CSV files are located\n",
    "dataSourceFolder = \"C:\\\\Users\\\\e0253700\\\\Desktop\\\\NUS\\\\MFE\\\\Semester 2\\\\FE5107\\\\Project\\\\TRD_Dalyr\\\\\"\n",
    "\n",
    "# Get a list of all the CSV files in the folder\n",
    "csv_files = [file for file in os.listdir(dataSourceFolder) if file.endswith('.csv')]\n",
    "\n",
    "# Create an empty list to store the dataframe\n",
    "dfs = []\n",
    "\n",
    "# Loop through the CSV files and read them into dataframes\n",
    "for file in csv_files:\n",
    "    file_path = os.path.join(dataSourceFolder, file)\n",
    "    df = pd.read_csv(file_path)\n",
    "    dfs.append(df)\n",
    "\n",
    "# Concatenate the dataframes into a single dataframe\n",
    "df = pd.concat(dfs, ignore_index=True)\n",
    "\n",
    "print(df.shape)"
   ]
  },
  {
   "cell_type": "code",
   "execution_count": 2,
   "metadata": {},
   "outputs": [
    {
     "name": "stdout",
     "output_type": "stream",
     "text": [
      "(4925100, 3)\n"
     ]
    }
   ],
   "source": [
    "# Data cleaning\n",
    "\n",
    "# Remove duplicate rows\n",
    "df.drop_duplicates(inplace=True)\n",
    "\n",
    "# Keep Markettype = 1, 4, 16, 32\n",
    "valid_market_types = [1, 4, 16, 32]\n",
    "df = df[df['Markettype'].isin(valid_market_types)]\n",
    "\n",
    "# Keep only useful columns\n",
    "columns_to_keep = ['Stkcd', 'Trddt', 'Clsprc']\n",
    "df = df.loc[:, columns_to_keep]\n",
    "\n",
    "df = df.rename(columns={'Stkcd': 'StockCode'})\n",
    "df = df.rename(columns={'Trddt': 'TradeDate'})\n",
    "df = df.rename(columns={'Clsprc': 'ClosingPrice'})\n",
    "\n",
    "print(df.shape)"
   ]
  },
  {
   "cell_type": "code",
   "execution_count": 9,
   "metadata": {},
   "outputs": [],
   "source": [
    "import pandas as pd\n",
    "import numpy as np\n",
    "\n",
    "def compute_weights(halflife, num_days):\n",
    "    weights = np.full(num_days, np.nan)\n",
    "    for t in range(num_days):\n",
    "        weights[t] = np.exp(-np.log(2) * t / halflife)\n",
    "    return weights\n",
    "\n",
    "# Calculate RSTR\n",
    "def calculate_rstr(stock_data, halflife=120, lookback=500-21):\n",
    "    stock_data['Returns'] = np.log(1 + stock_data['ClosingPrice'].pct_change())\n",
    "\n",
    "    if len(stock_data) < lookback + 1:  # Check if the stock has enough trading days\n",
    "        return np.nan\n",
    "\n",
    "    # Intercept the return rate array, and then adjust the weight according to the actual trading days\n",
    "    actual_lookback = len(stock_data) - 21\n",
    "    weights = compute_weights(halflife, actual_lookback)\n",
    "    returns_adjusted = stock_data['Returns'].iloc[-actual_lookback-1:-21]\n",
    "    rstr = (returns_adjusted * weights[:len(returns_adjusted)]).sum()\n",
    "    return rstr\n",
    "\n",
    "# Calculate RSTR\n",
    "unique_stocks = df['StockCode'].unique()\n",
    "results = []\n",
    "\n",
    "for stock_code in unique_stocks:\n",
    "    stock_data = df[df['StockCode'] == stock_code].sort_values('TradeDate', ascending=True)\n",
    "    stock_data.set_index('TradeDate', inplace=True)\n",
    "    rstr = calculate_rstr(stock_data)\n",
    "    results.append({'StockCode': stock_code, 'RSTR': rstr})\n",
    "\n",
    "rstr_df = pd.DataFrame(results)\n",
    "df = df.merge(rstr_df, on='StockCode', how='left')\n"
   ]
  },
  {
   "cell_type": "code",
   "execution_count": 11,
   "metadata": {},
   "outputs": [
    {
     "name": "stdout",
     "output_type": "stream",
     "text": [
      "(4925100, 4)\n"
     ]
    }
   ],
   "source": [
    "print(df.shape)\n",
    "df.to_csv(dataSourceFolder + \"momentum.csv\", index=False)"
   ]
  }
 ],
 "metadata": {
  "kernelspec": {
   "display_name": "Python 3",
   "language": "python",
   "name": "python3"
  },
  "language_info": {
   "codemirror_mode": {
    "name": "ipython",
    "version": 3
   },
   "file_extension": ".py",
   "mimetype": "text/x-python",
   "name": "python",
   "nbconvert_exporter": "python",
   "pygments_lexer": "ipython3",
   "version": "3.10.10"
  },
  "orig_nbformat": 4
 },
 "nbformat": 4,
 "nbformat_minor": 2
}
