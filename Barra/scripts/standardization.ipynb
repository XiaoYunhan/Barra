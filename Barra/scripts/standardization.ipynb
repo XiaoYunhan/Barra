{
 "cells": [
  {
   "cell_type": "code",
   "execution_count": 1,
   "metadata": {},
   "outputs": [],
   "source": [
    "# -*- coding: utf-8 -*-\n",
    "\"\"\"\n",
    "Created on Wed Mar 23 2023\n",
    "@author: xiaoyunhan\n",
    "\"\"\"\n",
    "\n",
    "import pandas as pd\n",
    "import statsmodels.api as sm\n",
    "import numpy as np\n",
    "\n",
    "def remove_outliers(dataframe, k=1.5):\n",
    "    \"\"\"\n",
    "    使用中位数法剔除异常值。\n",
    "    参数：\n",
    "    dataframe -- 输入的Pandas DataFrame。\n",
    "    k -- 中位数法的系数, 默认为1.5。\n",
    "    返回值：\n",
    "    一个新的DataFrame, 其中异常值已被替换为NaN。\n",
    "    \"\"\"\n",
    "    # 计算每行的中位数\n",
    "    medians = dataframe.median(axis=1)\n",
    "    # 计算每行的绝对离差\n",
    "    abs_deviation = (dataframe.sub(medians, axis=0)).abs()\n",
    "    # 计算每行绝对离差的中位数\n",
    "    median_abs_deviation = abs_deviation.median(axis=1)\n",
    "    # 计算上下界\n",
    "    lower_bound = dataframe.sub(k * median_abs_deviation, axis=0)\n",
    "    upper_bound = dataframe.add(k * median_abs_deviation, axis=0)\n",
    "    # 找出异常值并替换\n",
    "    dataframe_no_outliers = dataframe.where((dataframe >= lower_bound) & (dataframe <= upper_bound))\n",
    "    # 将异常值替换为 NaN\n",
    "    dataframe_no_outliers = dataframe_no_outliers.mask((dataframe < lower_bound) | (dataframe > upper_bound))\n",
    "    return dataframe_no_outliers\n",
    "\n",
    "def standardize_dataframe(dataframe):\n",
    "    \"\"\"\n",
    "    将输入的DataFrame标准化, 使其具有均值为0和标准差为1的正态分布。\n",
    "    参数：\n",
    "    dataframe -- 输入的Pandas DataFrame。\n",
    "    返回值：\n",
    "    一个新的标准化后的DataFrame。\n",
    "    \"\"\"\n",
    "    # 计算均值和标准差\n",
    "    mean = dataframe.mean(axis=1)\n",
    "    std = dataframe.std(axis=1)\n",
    "    # 使用公式进行标准化\n",
    "    standardized_dataframe = dataframe.sub(mean, axis=0).div(std, axis=0)\n",
    "    return standardized_dataframe"
   ]
  },
  {
   "cell_type": "code",
   "execution_count": 19,
   "metadata": {},
   "outputs": [],
   "source": [
    "sourcePath = '../data/risk_factors/'\n",
    "targetPath = '../data/standardized_risk_factors/'\n",
    "\n",
    "df = pd.read_csv(sourcePath + 'volatility_factor.csv', index_col=0)\n",
    "\n",
    "# print(beta.shape)\n",
    "\n",
    "df_no_outliers  = remove_outliers(df)\n",
    "\n",
    "df_no_outliers_standardized = standardize_dataframe(df_no_outliers)\n",
    "\n",
    "df_no_outliers_standardized.to_csv(targetPath + 'volatility_factor_standardized.csv')\n",
    "\n",
    "# print(beta_no_outliers_standardized)\n"
   ]
  }
 ],
 "metadata": {
  "kernelspec": {
   "display_name": "Python 3 (ipykernel)",
   "language": "python",
   "name": "python3"
  },
  "language_info": {
   "codemirror_mode": {
    "name": "ipython",
    "version": 3
   },
   "file_extension": ".py",
   "mimetype": "text/x-python",
   "name": "python",
   "nbconvert_exporter": "python",
   "pygments_lexer": "ipython3",
   "version": "3.9.16"
  }
 },
 "nbformat": 4,
 "nbformat_minor": 2
}
