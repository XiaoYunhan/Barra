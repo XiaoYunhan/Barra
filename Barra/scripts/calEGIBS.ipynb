{
 "cells": [
  {
   "cell_type": "code",
   "execution_count": 1,
   "metadata": {},
   "outputs": [
    {
     "name": "stdout",
     "output_type": "stream",
     "text": [
      "(10641214, 19)\n"
     ]
    }
   ],
   "source": [
    "# -*- coding: utf-8 -*-\n",
    "\"\"\"\n",
    "Created on Wed Mar 26 2023\n",
    "@author: xiaoyunhan\n",
    "\"\"\"\n",
    "\n",
    "import os\n",
    "import pandas as pd\n",
    "\n",
    "# Set directory where CSV files are located\n",
    "dataSourceFolder = '../data/raw_data/一致预期/'\n",
    "\n",
    "# Get a list of all the CSV files in the folder\n",
    "csv_files = [file for file in os.listdir(dataSourceFolder) if file.endswith('.csv')]\n",
    "\n",
    "# Create an empty list to store the dataframe\n",
    "dfs = []\n",
    "\n",
    "# Loop through the CSV files and read them into dataframes\n",
    "for file in csv_files:\n",
    "    file_path = os.path.join(dataSourceFolder, file)\n",
    "    df = pd.read_csv(file_path)\n",
    "    dfs.append(df)\n",
    "\n",
    "# Concatenate the dataframes into a single dataframe\n",
    "df = pd.concat(dfs, ignore_index=True)\n",
    "\n",
    "print(df.shape)"
   ]
  },
  {
   "cell_type": "code",
   "execution_count": 2,
   "metadata": {},
   "outputs": [
    {
     "name": "stdout",
     "output_type": "stream",
     "text": [
      "            SecurityID  Symbol ForecastDate ForecastYear ShortName       EPS  \\\n",
      "0         201000000001       1   2022-03-24   2022-12-31      平安银行  1.737942   \n",
      "1         201000000001       1   2022-03-24   2023-12-31      平安银行  2.057932   \n",
      "2         201000000001       1   2022-03-24   2024-12-31      平安银行  2.821220   \n",
      "3         201000000001       1   2022-03-25   2022-12-31      平安银行  1.739137   \n",
      "4         201000000001       1   2022-03-25   2023-12-31      平安银行  2.059839   \n",
      "...                ...     ...          ...          ...       ...       ...   \n",
      "10641209  201004188426  688222   2020-06-09   2020-12-31      成都先导  0.190888   \n",
      "10641210  201004188426  688222   2020-06-09   2021-12-31      成都先导  0.227597   \n",
      "10641211  201004188426  688222   2020-06-09   2022-12-31      成都先导       NaN   \n",
      "10641212  201004188426  688222   2020-06-10   2020-12-31      成都先导  0.264322   \n",
      "10641213  201004188426  688222   2020-06-10   2021-12-31      成都先导  0.350146   \n",
      "\n",
      "                  PE     NetProfit  ParentProfit   TotalProfit          EBIT  \\\n",
      "0           6.367639  4.256976e+10  3.882138e+10  5.561231e+10  4.727215e+10   \n",
      "1           5.319185  4.927469e+10  4.556106e+10  6.327658e+10  5.585754e+10   \n",
      "2           4.560368  5.546199e+10  5.762596e+10  6.945552e+10  8.409736e+10   \n",
      "3           6.356260  4.257760e+10  3.887479e+10  5.565993e+10  4.727215e+10   \n",
      "4           5.309407  4.924017e+10  4.563100e+10  6.333048e+10  5.585754e+10   \n",
      "...              ...           ...           ...           ...           ...   \n",
      "10641209  186.642664  8.171857e+07  7.792501e+07  8.347261e+07  3.240653e+08   \n",
      "10641210  153.496600  9.917303e+07  9.456919e+07  1.014089e+08  3.936991e+08   \n",
      "10641211         NaN  1.317018e+08           NaN           NaN  5.222540e+08   \n",
      "10641212  160.101732  1.119562e+08  1.091233e+08  1.173872e+08  1.800162e+08   \n",
      "10641213  122.973310  1.483279e+08  1.446593e+08  1.561166e+08  2.293354e+08   \n",
      "\n",
      "                EBITDA  MainSaleRevenue  OpeCashPerShare  \\\n",
      "0                  NaN     1.488447e+11              NaN   \n",
      "1                  NaN     1.678132e+11              NaN   \n",
      "2                  NaN     2.398773e+11              NaN   \n",
      "3                  NaN     1.488447e+11              NaN   \n",
      "4                  NaN     1.678132e+11              NaN   \n",
      "...                ...              ...              ...   \n",
      "10641209  9.454064e+07     3.137793e+08         0.167603   \n",
      "10641210  1.049624e+08     4.077194e+08         0.186225   \n",
      "10641211           NaN              NaN              NaN   \n",
      "10641212  1.122228e+08     3.131597e+08         0.270676   \n",
      "10641213  1.418085e+08     4.184708e+08         0.276883   \n",
      "\n",
      "          NetAssetValuePerShare       ROA        ROE         PB  \\\n",
      "0                     22.136333  0.838639  11.947073   0.647834   \n",
      "1                     24.726313  0.891598  12.644837   0.577447   \n",
      "2                     27.415476  0.924078  13.077857   0.500490   \n",
      "3                     22.212056  0.838639  11.915508   0.647573   \n",
      "4                     24.821397  0.891598  12.616941   0.577213   \n",
      "...                         ...       ...        ...        ...   \n",
      "10641209               3.633395  9.300000  10.500000  12.654438   \n",
      "10641210               3.944542  7.500000   8.300000  11.650117   \n",
      "10641211                    NaN       NaN        NaN        NaN   \n",
      "10641212               4.176681  8.433333   9.366667  11.710839   \n",
      "10641213               4.619317  8.966667   9.900000  10.554949   \n",
      "\n",
      "          TotalAssetTurnover  \n",
      "0                        NaN  \n",
      "1                        NaN  \n",
      "2                        NaN  \n",
      "3                        NaN  \n",
      "4                        NaN  \n",
      "...                      ...  \n",
      "10641209                 NaN  \n",
      "10641210                 NaN  \n",
      "10641211                 NaN  \n",
      "10641212            0.214656  \n",
      "10641213            0.214656  \n",
      "\n",
      "[10641214 rows x 19 columns]\n"
     ]
    }
   ],
   "source": [
    "print(df)"
   ]
  }
 ],
 "metadata": {
  "kernelspec": {
   "display_name": "Python 3",
   "language": "python",
   "name": "python3"
  },
  "language_info": {
   "codemirror_mode": {
    "name": "ipython",
    "version": 3
   },
   "file_extension": ".py",
   "mimetype": "text/x-python",
   "name": "python",
   "nbconvert_exporter": "python",
   "pygments_lexer": "ipython3",
   "version": "3.10.10"
  },
  "orig_nbformat": 4
 },
 "nbformat": 4,
 "nbformat_minor": 2
}
