{
 "cells": [
  {
   "cell_type": "code",
   "execution_count": 14,
   "metadata": {},
   "outputs": [],
   "source": [
    "import pandas as pd\n",
    "import statsmodels.api as sm\n",
    "import numpy as np\n",
    "\n",
    "beta = pd.read_csv('beta.csv', index_col=0)\n",
    "datsd = pd.read_csv('datsd.csv', index_col=0)\n",
    "cmra = pd.read_csv('cmra.csv', index_col=0)\n",
    "hsigma = pd.read_csv('hsigma.csv', index_col=0)\n",
    "STOM = pd.read_csv('STOM.csv', index_col=0)\n",
    "STOQ = pd.read_csv('STOQ.csv', index_col=0)\n",
    "STOA = pd.read_csv('STOA.csv', index_col=0)\n",
    "RSTR = pd.read_csv('RSTR.csv', index_col=0)\n",
    "MLEV = pd.read_csv('MLEV.csv', index_col=0)\n",
    "DTOA = pd.read_csv('DTOA.csv', index_col=0)\n",
    "BLEV = pd.read_csv('BLEV.csv', index_col=0)\n",
    "LNCAP = pd.read_csv('LNCAP.csv', index_col=0)\n",
    "CETOP = pd.read_csv('CETOP.csv', index_col=0)\n",
    "SGRO = pd.read_csv('SGRO.csv', index_col=0)\n",
    "EGRO = pd.read_csv('EGRO.csv', index_col=0)\n",
    "BTOP = pd.read_csv('BTOP.csv', index_col=0)\n"
   ]
  },
  {
   "cell_type": "code",
   "execution_count": null,
   "metadata": {},
   "outputs": [],
   "source": [
    "# 定义风格因子 Earnings Yield, Volatility, Growth和Leverage\n",
    "\n",
    "# Earnings Yield\n",
    "# earnings_yield_factor = 0.68 * epibs + 0.21 * cetop + 0.11 * etop\n",
    "\n",
    "# Growth\n",
    "# growth_factor = 0.47 * sgro + 0.24 * egro + 0.18 * egib + 0.11 * egibs"
   ]
  },
  {
   "cell_type": "code",
   "execution_count": 151,
   "metadata": {},
   "outputs": [
    {
     "name": "stdout",
     "output_type": "stream",
     "text": [
      "(965, 5034)\n"
     ]
    }
   ],
   "source": [
    "# Volatility\n",
    "cmra = pd.read_csv('cmra.csv', index_col=0)\n",
    "# volatility_factor = 0.74 * datsd + 0.16 * cmra + 0.1 * hsigma\n",
    "\n",
    "cmra.index = pd.to_datetime(cmra.index)\n",
    "datsd.index = pd.to_datetime(datsd.index)\n",
    "\n",
    "# 获取当前月份的第一天\n",
    "cmra.index = cmra.index.to_period('M').to_timestamp()\n",
    "\n",
    "# 对数据进行重采样，按照每天为单位进行采样，并进行填充\n",
    "cmra = cmra.resample('D').ffill()\n",
    "\n",
    "cmra = cmra.loc[datsd.index.strftime('%Y-%m-%d').tolist(),:]\n",
    "\n",
    "volatility_factor = datsd.mul(0.74) + cmra.mul(0.16)\n",
    "volatility_factor += hsigma.mul(0.1)\n",
    "print(volatility_factor.shape)\n",
    "volatility_factor.to_csv('volatility_factor.csv')"
   ]
  },
  {
   "cell_type": "code",
   "execution_count": 152,
   "metadata": {},
   "outputs": [
    {
     "name": "stdout",
     "output_type": "stream",
     "text": [
      "(1214, 4793)\n"
     ]
    }
   ],
   "source": [
    "# Leverage\n",
    "# leverage_factor = 0.38 * MLEV + 0.35 * DTOA + 0.27 * BLEV\n",
    "\n",
    "leverage_factor = MLEV.mul(0.38) + DTOA.mul(0.35) + BLEV.mul(0.27)\n",
    "print(leverage_factor.shape)\n",
    "leverage_factor.to_csv('leverage_factor.csv')\n"
   ]
  },
  {
   "cell_type": "code",
   "execution_count": 31,
   "metadata": {},
   "outputs": [],
   "source": [
    "# import statsmodels.api as sm\n",
    "# from sklearn.impute import SimpleImputer\n",
    "\n",
    "# # 从原始数据中提取出 datsd、cmra 和 hsigma 三个小类因子的数据\n",
    "# datsd = pd.read_csv('datsd.csv', index_col=0)\n",
    "# cmra = pd.read_csv('cmra.csv', index_col=0)\n",
    "# hsigma = pd.read_csv('hsigma.csv', index_col=0)\n",
    "\n",
    "# # 处理缺失值，使用均值填充\n",
    "# imputer = SimpleImputer(strategy='mean')\n",
    "# datsd = pd.DataFrame(imputer.fit_transform(datsd), index=datsd.index, columns=datsd.columns)\n",
    "# cmra = pd.DataFrame(imputer.fit_transform(cmra), index=cmra.index, columns=cmra.columns)\n",
    "# hsigma = pd.DataFrame(imputer.fit_transform(hsigma), index=hsigma.index, columns=hsigma.columns)\n",
    "\n",
    "# # 组合 datsd、cmra 和 hsigma 三个小类因子，得到 Volatility 风格因子\n",
    "# volatility_factor = 0.4 * datsd + 0.3 * cmra + 0.3 * hsigma\n",
    "\n",
    "# # 对齐索引\n",
    "# aligned_data = pd.concat([volatility_factor, datsd, cmra, hsigma], axis=1, join='inner')\n",
    "# aligned_volatility_factor = aligned_data.iloc[:, :volatility_factor.shape[1]]\n",
    "# aligned_datsd = aligned_data.iloc[:, volatility_factor.shape[1]:volatility_factor.shape[1] + datsd.shape[1]]\n",
    "# aligned_cmra = aligned_data.iloc[:, volatility_factor.shape[1] + datsd.shape[1]:volatility_factor.shape[1] + datsd.shape[1] + cmra.shape[1]]\n",
    "# aligned_hsigma = aligned_data.iloc[:, volatility_factor.shape[1] + datsd.shape[1] + cmra.shape[1]:]\n",
    "\n",
    "# # 使用 OLS 回归\n",
    "# model_datsd = sm.OLS(aligned_volatility_factor, sm.add_constant(aligned_datsd))\n",
    "# results_datsd = model_datsd.fit()\n",
    "# print('datsd:', results_datsd.params)\n",
    "\n",
    "# model_cmra = sm.OLS(aligned_volatility_factor, sm.add_constant(aligned_cmra))\n",
    "# results_cmra = model_cmra.fit()\n",
    "# print('cmra:', results_cmra.params)\n",
    "\n",
    "# model_hsigma = sm.OLS(aligned_volatility_factor, sm.add_constant(aligned_hsigma))\n",
    "# results_hsigma = model_hsigma.fit()\n",
    "# print('hsigma:', results_hsigma.params)\n"
   ]
  },
  {
   "cell_type": "code",
   "execution_count": 145,
   "metadata": {},
   "outputs": [],
   "source": [
    "# # 将 volatility_factor 和 datsd 合并成一个 DataFrame\n",
    "# data = pd.concat([volatility_factor, datsd], axis=1)\n",
    "# data = data.replace([np.inf, -np.inf], np.nan)\n",
    "# data.dropna(inplace=True)\n",
    "\n",
    "# # 对每个小类因子进行回归分析\n",
    "# model_datsd = sm.OLS(data.iloc[:, 0], data.iloc[:, 1])\n",
    "# results_datsd = model_datsd.fit()\n",
    "# print('datsd:', results_datsd.params)\n",
    "\n",
    "# model_cmra = sm.OLS(data.iloc[:, 0], cmra)\n",
    "# results_cmra = model_cmra.fit()\n",
    "# print('cmra:', results_cmra.params)\n",
    "\n",
    "# model_hsigma = sm.OLS(data.iloc[:, 0], hsigma)\n",
    "# results_hsigma = model_hsigma.fit()\n",
    "# print('hsigma:', results_hsigma.params)"
   ]
  }
 ],
 "metadata": {
  "kernelspec": {
   "display_name": "Python 3",
   "language": "python",
   "name": "python3"
  },
  "language_info": {
   "codemirror_mode": {
    "name": "ipython",
    "version": 3
   },
   "file_extension": ".py",
   "mimetype": "text/x-python",
   "name": "python",
   "nbconvert_exporter": "python",
   "pygments_lexer": "ipython3",
   "version": "3.10.10"
  },
  "orig_nbformat": 4
 },
 "nbformat": 4,
 "nbformat_minor": 2
}
